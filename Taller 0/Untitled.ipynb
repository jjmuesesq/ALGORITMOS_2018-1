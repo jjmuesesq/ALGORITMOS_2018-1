{
 "cells": [
  {
   "cell_type": "code",
   "execution_count": 1,
   "metadata": {},
   "outputs": [
    {
     "ename": "ModuleNotFoundError",
     "evalue": "No module named 'graphviz'",
     "output_type": "error",
     "traceback": [
      "\u001b[1;31m---------------------------------------------------------------------------\u001b[0m",
      "\u001b[1;31mModuleNotFoundError\u001b[0m                       Traceback (most recent call last)",
      "\u001b[1;32m<ipython-input-1-3928c33147f3>\u001b[0m in \u001b[0;36m<module>\u001b[1;34m()\u001b[0m\n\u001b[0;32m      5\u001b[0m \u001b[1;31m#If you don't have graphviz, you can remove this cell and eliminate all calls to the functions in it.\u001b[0m\u001b[1;33m\u001b[0m\u001b[1;33m\u001b[0m\u001b[0m\n\u001b[0;32m      6\u001b[0m \u001b[1;33m\u001b[0m\u001b[0m\n\u001b[1;32m----> 7\u001b[1;33m \u001b[1;32mfrom\u001b[0m \u001b[0mgraphviz\u001b[0m \u001b[1;32mimport\u001b[0m \u001b[0mGraph\u001b[0m\u001b[1;33m,\u001b[0m \u001b[0mDigraph\u001b[0m\u001b[1;33m\u001b[0m\u001b[0m\n\u001b[0m\u001b[0;32m      8\u001b[0m \u001b[1;32mfrom\u001b[0m \u001b[0mIPython\u001b[0m\u001b[1;33m.\u001b[0m\u001b[0mdisplay\u001b[0m \u001b[1;32mimport\u001b[0m \u001b[0mdisplay\u001b[0m\u001b[1;33m\u001b[0m\u001b[0m\n\u001b[0;32m      9\u001b[0m \u001b[1;33m\u001b[0m\u001b[0m\n",
      "\u001b[1;31mModuleNotFoundError\u001b[0m: No module named 'graphviz'"
     ]
    }
   ],
   "source": [
    "\"\"\"\n",
    "@author: Jhon Jairo\n",
    "\"\"\"\n",
    "\n",
    "#If you don't have graphviz, you can remove this cell and eliminate all calls to the functions in it.\n",
    "\n",
    "from graphviz import Graph, Digraph\n",
    "from IPython.display import display\n",
    "\n",
    "# This function allows to drwaw a graph. It requires graphviz to be installed\n",
    "def display_graph(G, color = {}):\n",
    "        dot = Graph(graph_attr = {'size':'3.5'})\n",
    "        for node in G:\n",
    "            if not node in color or color[node] == 'white':\n",
    "                dot.node(node)\n",
    "            else:\n",
    "                if color[node] == 'black':\n",
    "                    dot.node(node, style = 'filled', color = color[node], fontcolor = 'white')\n",
    "                else:\n",
    "                    dot.node(node, style = 'filled', color = color[node])\n",
    "        for n1 in G:\n",
    "            for n2 in G[n1]:\n",
    "                if n1 < n2:\n",
    "                    dot.edge(n1, n2)\n",
    "        display(dot)\n",
    "\n",
    "# This function allows to draw a search tree. It requires graphviz to be installed\n",
    "def display_parent(prnt):\n",
    "        dot = Digraph(graph_attr = {'size':'2.5'})\n",
    "        for n1 in prnt:\n",
    "            if prnt[n1] != None:\n",
    "                for n2 in prnt[n1]:\n",
    "                    dot.edge(n2, n1)\n",
    "        display(dot)\n",
    "\n",
    "#Construccion grafo\n",
    "def make_link(G, node1, node2):\n",
    "    \n",
    "    if(node1 not in G):\n",
    "        G[node1]={}\n",
    "    (G[node1])[node2]=1\n",
    "    \n",
    "    if(node2 not in G):\n",
    "        G[node2]={}\n",
    "    (G[node2])[node1]=1\n",
    "    \n",
    "    return G\n",
    "\n",
    "#aristas\n",
    "edges1=[('v', 'r'), ('r', 's'), ('w', 't'), ('s', 'w'),\n",
    "        ('w', 'x'), ('t', 'x'), ('t', 'u'), ('x', 'y'),\n",
    "        ('u', 'y')]\n",
    "\n",
    "#print(edges1[0][0])\n",
    "#print(edges1[0][1])\n",
    "\n",
    "G1 = {'y':{}}\n",
    "for v1, v2 in edges1:\n",
    "    make_link(G1, v1, v2)\n",
    "    #print(\"enlace\", v1, v2)\n",
    "    #print(G1)\n",
    "#print(\"imprimiendo grafo\")\n",
    "print(G1)\n",
    "display_graph(G1, {})\n",
    "    \n"
   ]
  },
  {
   "cell_type": "code",
   "execution_count": null,
   "metadata": {},
   "outputs": [],
   "source": []
  }
 ],
 "metadata": {
  "kernelspec": {
   "display_name": "Python 3",
   "language": "python",
   "name": "python3"
  },
  "language_info": {
   "codemirror_mode": {
    "name": "ipython",
    "version": 3
   },
   "file_extension": ".py",
   "mimetype": "text/x-python",
   "name": "python",
   "nbconvert_exporter": "python",
   "pygments_lexer": "ipython3",
   "version": "3.6.4"
  }
 },
 "nbformat": 4,
 "nbformat_minor": 2
}
