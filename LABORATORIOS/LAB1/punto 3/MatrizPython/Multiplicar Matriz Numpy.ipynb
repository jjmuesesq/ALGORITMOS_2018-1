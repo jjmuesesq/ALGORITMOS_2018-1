{
 "cells": [
  {
   "cell_type": "code",
   "execution_count": 1,
   "metadata": {},
   "outputs": [
    {
     "name": "stdout",
     "output_type": "stream",
     "text": [
      "-----------------------------------\n",
      "ingrese la dimensión de la matriz A\n",
      "-----------------------------------\n",
      "5\n",
      "1 2 3 4 5\n",
      "5 6 7 8 9\n",
      "0 9 8 7 6\n",
      "6 5 4 3 2\n",
      "5 4 3 2 1\n",
      "A : \n",
      "[[1 2 3 4 5]\n",
      " [5 6 7 8 9]\n",
      " [0 9 8 7 6]\n",
      " [6 5 4 3 2]\n",
      " [5 4 3 2 1]]\n",
      "-----------------------------------\n",
      "ingrese la dimensión de la matriz B\n",
      "-----------------------------------\n",
      "5\n",
      "1 1 1 1 1\n",
      "2 2 2 2 2\n",
      "3 3 3 3 3\n",
      "4 4 4 4 4\n",
      "5 5 5 5 5\n",
      "B : \n",
      "[[1 1 1 1 1]\n",
      " [2 2 2 2 2]\n",
      " [3 3 3 3 3]\n",
      " [4 4 4 4 4]\n",
      " [5 5 5 5 5]]\n",
      "-----------------------------------\n",
      "Multiplicación de AxB\n",
      "-----------------------------------\n",
      "[[ 55  55  55  55  55]\n",
      " [115 115 115 115 115]\n",
      " [100 100 100 100 100]\n",
      " [ 50  50  50  50  50]\n",
      " [ 35  35  35  35  35]]\n"
     ]
    }
   ],
   "source": [
    "import numpy as np\n",
    "from time import time\n",
    "import matplotlib.pyplot as plt\n",
    "\n",
    "#multipliacion de matrices utilizando numpy\n",
    "'''\n",
    "A = np.array([[1, 2, 3, 12, 6],\n",
    "             [4, 5, 6, 15, 20],\n",
    "             [7, 8, 9, 10, 10]])\n",
    "print(A)\n",
    "\n",
    "B = np.array([[4, 4, 2],\n",
    "             [2, 3, 1],\n",
    "             [6, 5, 8],\n",
    "             [9, 9, 9]])\n",
    "print(B)\n",
    "\n",
    "print(np.dot(B, A))'''\n",
    "print(\"-----------------------------------\")\n",
    "print(\"ingrese la dimensión de la matriz A\")\n",
    "print(\"-----------------------------------\")\n",
    "mtxA = []\n",
    "N = int(input())\n",
    "for j in range(N):\n",
    "    filA = list(map(int, input().strip().split(' ')))\n",
    "    mtxA.append(filA)\n",
    "A=np.array(mtxA)\n",
    "print(\"A : \")\n",
    "print(A)\n",
    "print(\"-----------------------------------\")\n",
    "print(\"ingrese la dimensión de la matriz B\")\n",
    "print(\"-----------------------------------\")\n",
    "mtxB = []\n",
    "T = int(input())\n",
    "for i in range(T):\n",
    "    filB = list(map(int, input().strip().split(' ')))\n",
    "    mtxB.append(filB)\n",
    "B=np.array(mtxB)\n",
    "print(\"B : \")\n",
    "print(B)\n",
    "print(\"-----------------------------------\")\n",
    "print(\"Multiplicación de AxB\")\n",
    "print(\"-----------------------------------\")\n",
    "print(np.dot(A, B))"
   ]
  },
  {
   "cell_type": "code",
   "execution_count": null,
   "metadata": {},
   "outputs": [],
   "source": []
  }
 ],
 "metadata": {
  "kernelspec": {
   "display_name": "Python 3",
   "language": "python",
   "name": "python3"
  },
  "language_info": {
   "codemirror_mode": {
    "name": "ipython",
    "version": 3
   },
   "file_extension": ".py",
   "mimetype": "text/x-python",
   "name": "python",
   "nbconvert_exporter": "python",
   "pygments_lexer": "ipython3",
   "version": "3.6.4"
  }
 },
 "nbformat": 4,
 "nbformat_minor": 2
}
