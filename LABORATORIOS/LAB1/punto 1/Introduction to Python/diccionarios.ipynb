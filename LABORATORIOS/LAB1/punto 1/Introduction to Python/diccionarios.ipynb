{
 "cells": [
  {
   "cell_type": "code",
   "execution_count": 1,
   "metadata": {},
   "outputs": [
    {
     "name": "stdout",
     "output_type": "stream",
     "text": [
      "['Book of the new Sun', 'Neuromancer', 'Snow Crash']\n",
      "I can't read\n",
      "['Pillars of the Earth']\n",
      "{'High Fantasy': ['Wheel of Time', 'Lord of the Rings'], 'Sci-fi': \"I can't read\", 'Weird Fiction': ['At the Mountains of Madness', 'The House on the Borderland'], 'Historical Fiction': ['Pillars of the Earth']}\n"
     ]
    }
   ],
   "source": [
    "''''diccionarios'''\n",
    "\n",
    "my_dict= {\"High Fantasy\" : [\"Wheel of Time\", \"Lord of the Rings\"],\n",
    "          \"Sci-fi\": [\"Book of the new Sun\", \"Neuromancer\", \"Snow Crash\"],\n",
    "          \"Weird Fiction\": [\"At the Mountains of Madness\", \"The House on the Borderland\"]}\n",
    "\n",
    "print(my_dict[\"Sci-fi\"])\n",
    "\n",
    "my_dict[\"Sci-fi\"] = \"I can't read\"\n",
    "print(my_dict[\"Sci-fi\"])\n",
    "\n",
    "my_dict[\"Historical Fiction\"]= [\"Pillars of the Earth\"]\n",
    "print(my_dict[\"Historical Fiction\"])\n",
    "\n",
    "print(my_dict)"
   ]
  },
  {
   "cell_type": "code",
   "execution_count": null,
   "metadata": {},
   "outputs": [],
   "source": []
  }
 ],
 "metadata": {
  "kernelspec": {
   "display_name": "Python 3",
   "language": "python",
   "name": "python3"
  },
  "language_info": {
   "codemirror_mode": {
    "name": "ipython",
    "version": 3
   },
   "file_extension": ".py",
   "mimetype": "text/x-python",
   "name": "python",
   "nbconvert_exporter": "python",
   "pygments_lexer": "ipython3",
   "version": "3.6.4"
  }
 },
 "nbformat": 4,
 "nbformat_minor": 2
}
