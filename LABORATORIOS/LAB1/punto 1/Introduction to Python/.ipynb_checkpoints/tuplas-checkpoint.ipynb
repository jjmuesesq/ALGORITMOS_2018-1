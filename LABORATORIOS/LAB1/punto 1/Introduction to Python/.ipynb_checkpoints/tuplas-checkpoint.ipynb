{
 "cells": [
  {
   "cell_type": "code",
   "execution_count": 1,
   "metadata": {},
   "outputs": [
    {
     "name": "stdout",
     "output_type": "stream",
     "text": [
      "('I', 'have', 30, 'cats')\n",
      "('I', 'have', 30, 'cats')\n",
      "('have', 30)\n",
      "('I', 'have', 30, 'cats', 'make', 'that', 50)\n",
      "make that 50\n"
     ]
    }
   ],
   "source": [
    "my_tuple = 'I', 'have', 30, 'cats'\n",
    "print(my_tuple)\n",
    "\n",
    "my_tuple2 =('I', 'have', 30, 'cats')\n",
    "print(my_tuple2)\n",
    "\n",
    "#my_tuple2[3] = 'dogs'\n",
    "\n",
    "print(my_tuple2[1:3])\n",
    "\n",
    "my_other_tuple = ('make', 'that', 50)\n",
    "print(my_tuple2 + my_other_tuple)\n",
    "\n",
    "str_1, str_2, int_1= my_other_tuple\n",
    "print(str_1, str_2, int_1)\n"
   ]
  },
  {
   "cell_type": "code",
   "execution_count": null,
   "metadata": {},
   "outputs": [],
   "source": []
  }
 ],
 "metadata": {
  "kernelspec": {
   "display_name": "Python 3",
   "language": "python",
   "name": "python3"
  },
  "language_info": {
   "codemirror_mode": {
    "name": "ipython",
    "version": 3
   },
   "file_extension": ".py",
   "mimetype": "text/x-python",
   "name": "python",
   "nbconvert_exporter": "python",
   "pygments_lexer": "ipython3",
   "version": "3.6.4"
  }
 },
 "nbformat": 4,
 "nbformat_minor": 2
}
