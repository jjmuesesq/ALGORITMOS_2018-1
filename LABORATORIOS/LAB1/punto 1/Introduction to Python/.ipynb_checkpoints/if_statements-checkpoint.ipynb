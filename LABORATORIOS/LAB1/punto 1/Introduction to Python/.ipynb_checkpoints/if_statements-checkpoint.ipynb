{
 "cells": [
  {
   "cell_type": "code",
   "execution_count": 1,
   "metadata": {},
   "outputs": [
    {
     "name": "stdout",
     "output_type": "stream",
     "text": [
      "True\n",
      "All lines in this idented block are part of this block\n",
      "The variable i is not equal of 5\n",
      "The variable i has a value of 1\n",
      "i is divisible by both 2 and 5! Wow!\n",
      "5 is less than 10 and 12 is greater than 11! How novel and interesting!\n",
      "And so it was! For the glory of Rome!\n",
      "Those are my favorite vowels!\n"
     ]
    }
   ],
   "source": [
    "# This is the basic format of an if statement. This is a vacuous example.\n",
    "# The string \"Condition\" will always evaluated as True because it is a\n",
    "# non-empty string. he purpose of this code is to show the formatting of\n",
    "# an if-statement.\n",
    "if \"Condition\":\n",
    "    # This block of code will execute because the string is non-empty\n",
    "    # Everything on these indented lines\n",
    "    print(True)\n",
    "else:\n",
    "    # So if the condition that we examined with if is in fact False\n",
    "    # This block of code will execute INSTEAD of the first block of code\n",
    "    # Everything on these indented lines\n",
    "    print(False)\n",
    "# The else block here will never execute because \"Condition\" is a non-empty string.\n",
    "\n",
    "i=4\n",
    "if i==5:\n",
    "    print(\"All lines in this idented block are part of this block\")\n",
    "    print('The variable i has a value of 5')\n",
    "else:\n",
    "    print(\"All lines in this idented block are part of this block\")\n",
    "    print('The variable i is not equal of 5')\n",
    "\n",
    "i=1\n",
    "if i==1:\n",
    "    print('The variable i has a value of 1')\n",
    "elif i==2:\n",
    "    print('The variable i has a value of 2')\n",
    "elif i==3:\n",
    "    print('The variable i has a value of 3')\n",
    "else:\n",
    "    print(\"I don't care what i is\")\n",
    "\n",
    "i = 10\n",
    "if i%2 ==0:\n",
    "    if i%3==0:\n",
    "        print('i is divisible by both 2 and 3! Wow!')\n",
    "    elif i%5==0:\n",
    "        print('i is divisible by both 2 and 5! Wow!')\n",
    "    else:\n",
    "        print('i is divisible by 2, but not 3 or 4. Meh')\n",
    "else:\n",
    "    print('I guess that i is an odd number. Boring.')\n",
    "\n",
    "i = 5\n",
    "j = 12\n",
    "if i<10 and j>11:\n",
    "    print('{0} is less than 10 and {1} is greater than 11! How novel and interesting!'.format(i, j))\n",
    "\n",
    "my_string = \"Carthago delenda est\"\n",
    "if my_string == \"Carthago delenda est\":\n",
    "    print('And so it was! For the glory of Rome!')\n",
    "else:\n",
    "    print('War elephants are TERRIFYING. I am staying home.')\n",
    "if 'a' in my_string or 'e' in my_string:\n",
    "    print('Those are my favorite vowels!')\n",
    "\n",
    "\n",
    "\n",
    "\n"
   ]
  },
  {
   "cell_type": "code",
   "execution_count": null,
   "metadata": {},
   "outputs": [],
   "source": []
  }
 ],
 "metadata": {
  "kernelspec": {
   "display_name": "Python 3",
   "language": "python",
   "name": "python3"
  },
  "language_info": {
   "codemirror_mode": {
    "name": "ipython",
    "version": 3
   },
   "file_extension": ".py",
   "mimetype": "text/x-python",
   "name": "python",
   "nbconvert_exporter": "python",
   "pygments_lexer": "ipython3",
   "version": "3.6.4"
  }
 },
 "nbformat": 4,
 "nbformat_minor": 2
}
