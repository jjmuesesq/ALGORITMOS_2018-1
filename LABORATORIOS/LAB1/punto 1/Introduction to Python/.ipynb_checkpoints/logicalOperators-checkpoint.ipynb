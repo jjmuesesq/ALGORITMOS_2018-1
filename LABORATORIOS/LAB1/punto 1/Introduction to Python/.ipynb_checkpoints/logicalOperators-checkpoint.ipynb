{
 "cells": [
  {
   "cell_type": "code",
   "execution_count": 1,
   "metadata": {},
   "outputs": [
    {
     "name": "stdout",
     "output_type": "stream",
     "text": [
      "True\n",
      "False\n",
      "True\n",
      "Statement 1 truth value: True\n",
      "Statement 2 truth value: True\n",
      "Statement 1 and Statement 2: True\n",
      "True\n",
      "False\n",
      "True\n",
      "False\n",
      "True\n"
     ]
    }
   ],
   "source": [
    "print(5==5)\n",
    "print(5>5)\n",
    "m = 2\n",
    "n = 23\n",
    "print(m < n)\n",
    "\n",
    "statement_1 = 10 > 2\n",
    "statement_2 = 4 <= 6\n",
    "print(\"Statement 1 truth value: {0}\".format(statement_1))\n",
    "print(\"Statement 2 truth value: {0}\".format(statement_2))\n",
    "print(\"Statement 1 and Statement 2: {0}\".format(statement_1 and statement_2))\n",
    "\n",
    "print(((2<3)and(3>0))or((5>6)and not(4<2)))\n",
    "\n",
    "#Truthiness\n",
    "\n",
    "print(bool(''))\n",
    "print((bool('I have character')))\n",
    "print(bool([]))\n",
    "print(bool([1, 2, 3]))"
   ]
  },
  {
   "cell_type": "code",
   "execution_count": null,
   "metadata": {},
   "outputs": [],
   "source": []
  }
 ],
 "metadata": {
  "kernelspec": {
   "display_name": "Python 3",
   "language": "python",
   "name": "python3"
  },
  "language_info": {
   "codemirror_mode": {
    "name": "ipython",
    "version": 3
   },
   "file_extension": ".py",
   "mimetype": "text/x-python",
   "name": "python",
   "nbconvert_exporter": "python",
   "pygments_lexer": "ipython3",
   "version": "3.6.4"
  }
 },
 "nbformat": 4,
 "nbformat_minor": 2
}
