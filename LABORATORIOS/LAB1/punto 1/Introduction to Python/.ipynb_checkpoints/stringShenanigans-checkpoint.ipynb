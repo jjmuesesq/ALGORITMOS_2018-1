{
 "cells": [
  {
   "cell_type": "code",
   "execution_count": 1,
   "metadata": {},
   "outputs": [
    {
     "name": "stdout",
     "output_type": "stream",
     "text": [
      "\"Beware the Jabberwock, my son! /The jaws that bite, the Claws that catch!/Beware the Jubjub bird, and shun /The frumious Bandersnatch!\"/\n",
      "The first letter is:  S\n",
      "The last letter is:  s\n",
      "The second to last letter is:  u\n",
      "The first five characters are:  Super\n",
      "Revere it!:  suoicodilaipxecitsiligarfilacrepuS\n",
      "Count of the letter i in Supercalifragilisticexpialidocious: 7\n",
      "Count of \"li\" in the same word:  3\n",
      "Count of \"pq\" in the same word:  0\n",
      "The first time i appears is at index:  8\n",
      "All i's are now a's:  Supercalafragalastacexpaaladocaous\n",
      "It's raining cats and more cats\n",
      "I CAN'T HEAR YOU\n",
      "i said hello\n"
     ]
    }
   ],
   "source": [
    "first_string = '\"Beware the Jabberwock, my son! /The jaws that bite, the Claws that catch!/'\n",
    "second_string = 'Beware the Jubjub bird, and shun /The frumious Bandersnatch!\"/'\n",
    "third_string = first_string + second_string\n",
    "print(third_string)\n",
    "\n",
    "my_string = 'Supercalifragilisticexpialidocious'\n",
    "print('The first letter is: ', my_string[0])\n",
    "print('The last letter is: ', my_string[-1])\n",
    "print('The second to last letter is: ', my_string[-2])\n",
    "print('The first five characters are: ', my_string[0:5])\n",
    "print('Revere it!: ', my_string[::-1])\n",
    "\n",
    "print('Count of the letter i in Supercalifragilisticexpialidocious:', my_string.count('i'))\n",
    "print('Count of \"li\" in the same word: ', my_string.count('li'))\n",
    "print('Count of \"pq\" in the same word: ', my_string.count('pq'))\n",
    "\n",
    "print('The first time i appears is at index: ', my_string.find('i'))\n",
    "print(\"All i's are now a's: \", my_string.replace('i', 'a'))\n",
    "\n",
    "print(\"It's raining cats and dogs\".replace('dogs', 'more cats'))\n",
    "\n",
    "my_string1 = \"I can't hear you\"\n",
    "print(my_string1.upper())\n",
    "\n",
    "my_string2 = \"I said HELLO\"\n",
    "print(my_string2.lower())\n",
    "\n"
   ]
  },
  {
   "cell_type": "code",
   "execution_count": null,
   "metadata": {},
   "outputs": [],
   "source": []
  }
 ],
 "metadata": {
  "kernelspec": {
   "display_name": "Python 3",
   "language": "python",
   "name": "python3"
  },
  "language_info": {
   "codemirror_mode": {
    "name": "ipython",
    "version": 3
   },
   "file_extension": ".py",
   "mimetype": "text/x-python",
   "name": "python",
   "nbconvert_exporter": "python",
   "pygments_lexer": "ipython3",
   "version": "3.6.4"
  }
 },
 "nbformat": 4,
 "nbformat_minor": 2
}
