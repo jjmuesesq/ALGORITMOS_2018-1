{
 "cells": [
  {
   "cell_type": "code",
   "execution_count": 1,
   "metadata": {},
   "outputs": [
    {
     "name": "stdout",
     "output_type": "stream",
     "text": [
      "I am looping! 4 more to go!\n",
      "I am looping! 3 more to go!\n",
      "I am looping! 2 more to go!\n",
      "I am looping! 1 more to go!\n",
      "I am looping! 0 more to go!\n",
      "I am looping! I have looped 1 times!\n",
      "I am looping! I have looped 2 times!\n",
      "I am looping! I have looped 3 times!\n",
      "I am looping! I have looped 4 times!\n",
      "I am looping! I have looped 5 times!\n",
      "{'humans', 'cows', 'cats', 'bats', 'dogs'}\n",
      "11\n",
      "12\n",
      "13\n",
      "14\n",
      "0\n",
      "1\n",
      "I am eternal! I am 0 and I exist everywhere!\n",
      "I am eternal! I am 1 and I exist everywhere!\n",
      "I am eternal! I am 2 and I exist everywhere!\n",
      "I am eternal! I am 3 and I exist everywhere!\n",
      "I am eternal! I am 4 and I exist everywhere!\n",
      "I persist! My value is 4\n",
      "I transcend the loop!\n",
      "Jhon Jairo\n",
      "Mueses Quitiauqez\n",
      "Miguel\n",
      "firstname : Jhon Jairo\n",
      "lastname : Mueses Quitiauqez\n",
      "nemesis : Miguel\n"
     ]
    }
   ],
   "source": [
    "i = 5\n",
    "while i > 0:# We can write this as 'while i:' because 0 is False!\n",
    "    i -=1\n",
    "    print('I am looping! {0} more to go!'.format(i))\n",
    "\n",
    "for i in range(5):\n",
    "    print('I am looping! I have looped {0} times!'.format(i+1))\n",
    "\n",
    "my_list = {'cats', 'dogs', 'lizards', 'cows', 'bats', 'sponges', 'humans'}\n",
    "mammal_list = {'cats', 'dogs', 'cows', 'bats', 'humans'} # Lists all the mammals in the world\n",
    "my_new_list = set()\n",
    "\n",
    "for animal in my_list:\n",
    "    if animal in mammal_list:\n",
    "        # This adds any animal that is both in my_list and mammal_list to my_new_list\n",
    "        my_new_list.add(animal)\n",
    "print(my_new_list)\n",
    "\n",
    "# break\n",
    "i = 10\n",
    "while(True):\n",
    "    if i == 14:\n",
    "        break\n",
    "    i += 1\n",
    "    print(i)\n",
    "\n",
    "\n",
    "for i in range(5):\n",
    "    if i == 2:\n",
    "        break\n",
    "    print(i)\n",
    "\n",
    "#continue\n",
    "\n",
    "for i in range(5):\n",
    "    loop_string = 'I transcend the loop!'\n",
    "    print('I am eternal! I am {0} and I exist everywhere!'.format(i))\n",
    "print('I persist! My value is {0}'.format(i))\n",
    "print(loop_string)\n",
    "\n",
    "#iterar sobre un diccionario\n",
    "mi_dict = {'firstname': 'Jhon Jairo', 'lastname': 'Mueses Quitiauqez', 'nemesis': 'Miguel'}\n",
    "for key in mi_dict:\n",
    "    #print(key)\n",
    "    print(mi_dict[key])\n",
    "\n",
    "for key, value in mi_dict.items():\n",
    "    print(key, ':', value )\n",
    "\n",
    "\n"
   ]
  },
  {
   "cell_type": "code",
   "execution_count": null,
   "metadata": {},
   "outputs": [],
   "source": []
  }
 ],
 "metadata": {
  "kernelspec": {
   "display_name": "Python 3",
   "language": "python",
   "name": "python3"
  },
  "language_info": {
   "codemirror_mode": {
    "name": "ipython",
    "version": 3
   },
   "file_extension": ".py",
   "mimetype": "text/x-python",
   "name": "python",
   "nbconvert_exporter": "python",
   "pygments_lexer": "ipython3",
   "version": "3.6.4"
  }
 },
 "nbformat": 4,
 "nbformat_minor": 2
}
