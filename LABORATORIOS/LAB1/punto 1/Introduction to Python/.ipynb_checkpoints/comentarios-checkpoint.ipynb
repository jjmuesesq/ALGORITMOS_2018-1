{
 "cells": [
  {
   "cell_type": "code",
   "execution_count": 1,
   "metadata": {},
   "outputs": [
    {
     "name": "stdout",
     "output_type": "stream",
     "text": [
      "50 <class 'int'>\n",
      "1\n",
      "This is number 0\n",
      "This is number 1\n",
      "This is number 2\n",
      "This is number 3\n",
      "1.0 <class 'float'>\n",
      "2.0 <class 'float'>\n",
      "3 <class 'int'>\n",
      "3 <class 'int'>\n",
      "This is a string with single quotes\n",
      "This is a string with double quotes\n",
      "\"Jabberwocky\", by Lewis Carroll\n",
      "'Twas brillig, and the slithy toves / Did gyre and gimble in the wave;\n",
      "True <class 'bool'>\n"
     ]
    }
   ],
   "source": [
    "#this is a comment\n",
    "#these lines  of code will not changue any values\n",
    "\n",
    "\"\"\"Esto es una función especial\"\"\"\n",
    "my_integer= 50\n",
    "print(my_integer, type(my_integer))\n",
    "\n",
    "one = 1\n",
    "print(one)\n",
    "\n",
    "for i in range(0, 4):\n",
    "    print(\"This is number %s\" % i)\n",
    "\n",
    "my_float = 1.0\n",
    "print(my_float, type(my_float))\n",
    "\n",
    "my_float2 = float(2)\n",
    "print(my_float2, type(my_float2))\n",
    "\n",
    "my_int = int(3.14159)\n",
    "print(my_int, type(my_int))\n",
    "\n",
    "my_int2 = int(3.9789)\n",
    "print(my_int2, type(my_int2))\n",
    "\n",
    "my_string = 'This is a string with single quotes'\n",
    "print(my_string)\n",
    "\n",
    "my_string2 = \"This is a string with double quotes\"\n",
    "print(my_string2)\n",
    "\n",
    "string1 = '\"Jabberwocky\", by Lewis Carroll'\n",
    "print(string1)\n",
    "\n",
    "string2 = \"'Twas brillig, and the slithy toves / Did gyre and gimble in the wave;\"\n",
    "print(string2)\n",
    "\n",
    "my_bool = True\n",
    "print(my_bool, type(my_bool))\n"
   ]
  },
  {
   "cell_type": "code",
   "execution_count": null,
   "metadata": {},
   "outputs": [],
   "source": []
  }
 ],
 "metadata": {
  "kernelspec": {
   "display_name": "Python 3",
   "language": "python",
   "name": "python3"
  },
  "language_info": {
   "codemirror_mode": {
    "name": "ipython",
    "version": 3
   },
   "file_extension": ".py",
   "mimetype": "text/x-python",
   "name": "python",
   "nbconvert_exporter": "python",
   "pygments_lexer": "ipython3",
   "version": "3.6.4"
  }
 },
 "nbformat": 4,
 "nbformat_minor": 2
}
