{
 "cells": [
  {
   "cell_type": "code",
   "execution_count": 1,
   "metadata": {},
   "outputs": [
    {
     "name": "stdout",
     "output_type": "stream",
     "text": [
      "{'lizards', 'man I just LOVE the number 4', 4, 7, 42, 'dogs', 'the number 4'} <class 'set'>\n",
      "{'lizards', 'cows', 'bats', 'cats', 'dogs', 'sponges'}\n",
      "6\n",
      "True\n",
      "False\n",
      "{'lizards', 'man I just LOVE the number 4', 'cows', 4, 7, 'bats', 'cats', 42, 'dogs', 'the number 4', 'sponges'}\n",
      "{'lizards', 'dogs'}\n"
     ]
    }
   ],
   "source": [
    "''' Conjuntos'''\n",
    "\n",
    "things_i_like = {'dogs', 7, 'the number 4', 4, 4, 4, 42, 'lizards', 'man I just LOVE the number 4'}\n",
    "print(things_i_like, type(things_i_like))\n",
    "\n",
    "animal_list = ['cats', 'dogs', 'dogs', 'dogs', 'lizards', 'sponges', 'cows', 'bats', 'sponges']\n",
    "animal_set = set(animal_list)\n",
    "print(animal_set) #remueve todas las instancias extra de la lista\n",
    "\n",
    "print(len(animal_set))\n",
    "print('cats' in animal_set)\n",
    "print('bears' in animal_set)\n",
    "\n",
    "print(animal_set | things_i_like) #union de conjuntos\n",
    "print(animal_set & things_i_like) #interseccion de conjuntos\n",
    "\n",
    "\n"
   ]
  },
  {
   "cell_type": "code",
   "execution_count": null,
   "metadata": {},
   "outputs": [],
   "source": []
  }
 ],
 "metadata": {
  "kernelspec": {
   "display_name": "Python 3",
   "language": "python",
   "name": "python3"
  },
  "language_info": {
   "codemirror_mode": {
    "name": "ipython",
    "version": 3
   },
   "file_extension": ".py",
   "mimetype": "text/x-python",
   "name": "python",
   "nbconvert_exporter": "python",
   "pygments_lexer": "ipython3",
   "version": "3.6.4"
  }
 },
 "nbformat": 4,
 "nbformat_minor": 2
}
