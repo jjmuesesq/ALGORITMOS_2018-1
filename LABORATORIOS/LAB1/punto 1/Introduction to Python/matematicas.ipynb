{
 "cells": [
  {
   "cell_type": "code",
   "execution_count": 1,
   "metadata": {},
   "outputs": [
    {
     "name": "stdout",
     "output_type": "stream",
     "text": [
      "Addition: 4\n",
      "Subtraction:  3\n",
      "Multiplication:  10\n",
      "Division: 5.0\n",
      "Exponentiation: 9\n",
      "Modulo: 3\n",
      "20\n",
      "3.6666666666666665\n",
      "Pi:  3.141592653589793\n",
      "Euler's Constant:  2.718281828459045\n",
      "Cosine of pi:  -1.0\n"
     ]
    }
   ],
   "source": [
    "import math\n",
    "\n",
    "#OPERACIONES MATEMATICAS\n",
    "\n",
    "print('Addition:', 2 + 2 )\n",
    "print('Subtraction: ', 7 - 4 )\n",
    "print('Multiplication: ', 2 * 5)\n",
    "print('Division:', 10/2)\n",
    "print('Exponentiation:', 3**2)\n",
    "print('Modulo:', 15%4)\n",
    "\n",
    "first_integer = 4\n",
    "second_integer = 5\n",
    "print(first_integer*second_integer)\n",
    "\n",
    "integer1 = 11\n",
    "integer2 = 3\n",
    "print(integer1/integer2)\n",
    "\n",
    "print('Pi: ', math.pi)\n",
    "print(\"Euler's Constant: \", math.e)\n",
    "print('Cosine of pi: ', math.cos(math.pi))\n",
    "\n"
   ]
  },
  {
   "cell_type": "code",
   "execution_count": null,
   "metadata": {},
   "outputs": [],
   "source": []
  }
 ],
 "metadata": {
  "kernelspec": {
   "display_name": "Python 3",
   "language": "python",
   "name": "python3"
  },
  "language_info": {
   "codemirror_mode": {
    "name": "ipython",
    "version": 3
   },
   "file_extension": ".py",
   "mimetype": "text/x-python",
   "name": "python",
   "nbconvert_exporter": "python",
   "pygments_lexer": "ipython3",
   "version": "3.6.4"
  }
 },
 "nbformat": 4,
 "nbformat_minor": 2
}
