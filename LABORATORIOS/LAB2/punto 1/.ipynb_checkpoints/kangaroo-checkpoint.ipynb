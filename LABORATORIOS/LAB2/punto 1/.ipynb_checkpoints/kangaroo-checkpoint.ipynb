{
 "cells": [
  {
   "cell_type": "code",
   "execution_count": 2,
   "metadata": {},
   "outputs": [
    {
     "name": "stdout",
     "output_type": "stream",
     "text": [
      "0 3 4 2\n",
      "YES\n"
     ]
    },
    {
     "data": {
      "text/plain": [
       "'\\n0 3 4 2\\n0 2 5 3\\n\\n'"
      ]
     },
     "execution_count": 2,
     "metadata": {},
     "output_type": "execute_result"
    }
   ],
   "source": [
    "\"\"\"\n",
    "@author: Jhon Jairo\n",
    "\"\"\"\n",
    "import sys\n",
    "\n",
    "def kangaroo(x1, v1, x2, v2):\n",
    "    if((x1>x2 and v1>v2) or (x1<x2 and v1<v2) or (v1-v2)==0):\n",
    "        return \"NO\"\n",
    "    if((x1 - x2) % (v2 - v1)) == 0:\n",
    "        return \"YES\"\n",
    "    else:\n",
    "        return \"NO\"\n",
    "\n",
    "x1, v1, x2, v2 = input().strip().split(' ')\n",
    "x1, v1, x2, v2 = [int(x1), int(v1), int(x2), int(v2)]\n",
    "result = kangaroo(x1, v1, x2, v2)\n",
    "print(result)\n",
    "\n",
    "'''\n",
    "0 3 4 2\n",
    "0 2 5 3\n",
    "\n",
    "'''"
   ]
  }
 ],
 "metadata": {
  "kernelspec": {
   "display_name": "Python 3",
   "language": "python",
   "name": "python3"
  },
  "language_info": {
   "codemirror_mode": {
    "name": "ipython",
    "version": 3
   },
   "file_extension": ".py",
   "mimetype": "text/x-python",
   "name": "python",
   "nbconvert_exporter": "python",
   "pygments_lexer": "ipython3",
   "version": "3.6.4"
  }
 },
 "nbformat": 4,
 "nbformat_minor": 2
}
