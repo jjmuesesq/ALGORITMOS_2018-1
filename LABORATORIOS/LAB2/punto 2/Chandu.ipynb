{
 "cells": [
  {
   "cell_type": "code",
   "execution_count": 1,
   "metadata": {},
   "outputs": [
    {
     "name": "stdout",
     "output_type": "stream",
     "text": [
      "1\n",
      "4 5\n",
      "9 7 5 3\n",
      "8 6 4 2 0 \n",
      "9 8 7 6 5 4 3 2 0 \n"
     ]
    },
    {
     "data": {
      "text/plain": [
       "'\\n1\\n4 5\\n9 7 5 3\\n8 6 4 2 0\\n'"
      ]
     },
     "execution_count": 1,
     "metadata": {},
     "output_type": "execute_result"
    }
   ],
   "source": [
    "import sys\n",
    "\n",
    "def merge(A, start, mid, end):\n",
    "    p=start\n",
    "    q= mid+1\n",
    "    Arr=[0]*(end-start+1)\n",
    "    k=0\n",
    "    #print(range(start, end))\n",
    "    for i in range(start, end+1):\n",
    "        if(p > mid):\n",
    "           Arr[k]=A[q]\n",
    "           k+=1\n",
    "           q+=1\n",
    "           #print(\"if1\")\n",
    "        elif(q > end):\n",
    "            Arr[k]=A[p]\n",
    "            k+=1\n",
    "            p+=1\n",
    "            #print(\"if2\")\n",
    "        elif(A[p] < A[q]):\n",
    "            Arr[k] = A[p]\n",
    "            k+=1\n",
    "            p+=1\n",
    "            #print(\"if3\")\n",
    "        else:\n",
    "            Arr[k]=A[q]\n",
    "            k+=1\n",
    "            q+=1\n",
    "            #print(\"else\")\n",
    "        #print(Arr)\n",
    "    for j in range(0, k):\n",
    "        A[start] = Arr[j]\n",
    "        start+=1\n",
    "    return A\n",
    "\n",
    "\n",
    "def merge_Sort(A, start, end):\n",
    "    #print(A)\n",
    "    if(start < end):\n",
    "        mid= int((start+end)/2)\n",
    "        merge_Sort(A, start, mid)\n",
    "        merge_Sort(A, mid+1, end)\n",
    "        merge(A, start, mid, end)\n",
    "\n",
    "def my_print(lista):\n",
    "    temp = \"\"\n",
    "    for i in range(len(lista)):\n",
    "        if (i != len(lista)):\n",
    "            temp += (str(lista[i]) + \" \")\n",
    "        else:\n",
    "            temp += (str(lista[i]))\n",
    "\n",
    "    print(temp)\n",
    "'''\n",
    "M=[9, 7, 8, 3, 2, 1]\n",
    "merge_Sort(M, 0, 5)\n",
    "print(M)'''\n",
    "\n",
    "T= int(input())\n",
    "for k in range(T):\n",
    "    a, b = map(int, input().strip().split(' '))\n",
    "    #print(a, b)\n",
    "    fil1 = list(map(int, input().strip().split(' ')))\n",
    "    fil2 = list(map(int, input().strip().split(' ')))\n",
    "    lista = fil1+fil2\n",
    "    #print(len(lista))\n",
    "    merge_Sort(lista, 0, len(lista)-1)\n",
    "    my_print(lista[::-1])\n",
    "\n",
    "'''\n",
    "1\n",
    "4 5\n",
    "9 7 5 3\n",
    "8 6 4 2 0\n",
    "'''"
   ]
  },
  {
   "cell_type": "code",
   "execution_count": null,
   "metadata": {},
   "outputs": [],
   "source": []
  }
 ],
 "metadata": {
  "kernelspec": {
   "display_name": "Python 3",
   "language": "python",
   "name": "python3"
  },
  "language_info": {
   "codemirror_mode": {
    "name": "ipython",
    "version": 3
   },
   "file_extension": ".py",
   "mimetype": "text/x-python",
   "name": "python",
   "nbconvert_exporter": "python",
   "pygments_lexer": "ipython3",
   "version": "3.6.4"
  }
 },
 "nbformat": 4,
 "nbformat_minor": 2
}
